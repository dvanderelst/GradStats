{
 "cells": [
  {
   "cell_type": "markdown",
   "metadata": {},
   "source": [
    "# Solving contrasts for parameters"
   ]
  },
  {
   "cell_type": "code",
   "execution_count": 11,
   "metadata": {},
   "outputs": [],
   "source": [
    "reset()\n",
    "import numpy"
   ]
  },
  {
   "cell_type": "code",
   "execution_count": 12,
   "metadata": {},
   "outputs": [
    {
     "data": {
      "text/plain": [
       "(beta0, beta1, beta2, beta3)"
      ]
     },
     "execution_count": 12,
     "metadata": {},
     "output_type": "execute_result"
    }
   ],
   "source": [
    "var('y1 y2 y3 y4')\n",
    "var('beta0 beta1 beta2 beta3')"
   ]
  },
  {
   "cell_type": "code",
   "execution_count": 13,
   "metadata": {},
   "outputs": [],
   "source": [
    "selection = 'sum'\n",
    "factor = 1 # to test what happens if the contrast values are scaled"
   ]
  },
  {
   "cell_type": "code",
   "execution_count": 14,
   "metadata": {},
   "outputs": [],
   "source": [
    "if selection == 'dummy':\n",
    "    c1 = numpy.array([0, 0, 0]) * factor\n",
    "    c2 = numpy.array([1, 0, 0]) * factor\n",
    "    c3 = numpy.array([0, 1, 0]) * factor\n",
    "    c4 = numpy.array([0, 0, 1]) * factor\n",
    "\n",
    "if selection == 'sum':\n",
    "    c1 = numpy.array([1, 0, 0]) * factor\n",
    "    c2 = numpy.array([0, 1, 0]) * factor\n",
    "    c3 = numpy.array([0,0,1]) * factor\n",
    "    c4 = numpy.array([-1, -1, -1]) * factor\n",
    "    \n",
    "if selection == 'simple':\n",
    "    c1 = numpy.array([-1/4, -1/4, -1/4]) * factor\n",
    "    c2 = numpy.array([3/4, -1/4, -1/4]) * factor\n",
    "    c3 = numpy.array([-1/4, 3/4, -1/4]) * factor\n",
    "    c4 = numpy.array([-1/4, -1/4, 3/4]) * factor\n",
    "    \n",
    "\n",
    "# This is the R version of Helmert, which is different from the https://stats.oarc.ucla.edu/ website\n",
    "if selection == 'helmert':\n",
    "    c1 = numpy.array([-1, -1, -1]) * factor\n",
    "    c2 = numpy.array([1, -1, -1]) * factor\n",
    "    c3 = numpy.array([0, 2, -1]) * factor\n",
    "    c4 = numpy.array([0, 0, 3]) * factor\n",
    "    \n",
    "\n",
    "# from the faux package\n",
    "if selection == 'difference': \n",
    "    c1 = numpy.array([-3/4, -1/2, -1/4]) * factor\n",
    "    c2 = numpy.array([0.25, -0.5, -0.25]) * factor\n",
    "    c3 = numpy.array([0.25, 0.5, -0.25]) * factor\n",
    "    c4 = numpy.array([0.25, 0.5, 0.75]) * factor\n",
    "    "
   ]
  },
  {
   "cell_type": "code",
   "execution_count": 15,
   "metadata": {},
   "outputs": [
    {
     "data": {
      "text/html": [
       "<html><script type=\"math/tex; mode=display\">\\newcommand{\\Bold}[1]{\\mathbf{#1}}y_{1} = \\beta_{0} + \\beta_{1}</script></html>"
      ],
      "text/latex": [
       "$$\\newcommand{\\Bold}[1]{\\mathbf{#1}}y_{1} = \\beta_{0} + \\beta_{1}$$"
      ],
      "text/plain": [
       "y1 == beta0 + beta1"
      ]
     },
     "metadata": {},
     "output_type": "display_data"
    },
    {
     "data": {
      "text/html": [
       "<html><script type=\"math/tex; mode=display\">\\newcommand{\\Bold}[1]{\\mathbf{#1}}y_{2} = \\beta_{0} + \\beta_{2}</script></html>"
      ],
      "text/latex": [
       "$$\\newcommand{\\Bold}[1]{\\mathbf{#1}}y_{2} = \\beta_{0} + \\beta_{2}$$"
      ],
      "text/plain": [
       "y2 == beta0 + beta2"
      ]
     },
     "metadata": {},
     "output_type": "display_data"
    },
    {
     "data": {
      "text/html": [
       "<html><script type=\"math/tex; mode=display\">\\newcommand{\\Bold}[1]{\\mathbf{#1}}y_{3} = \\beta_{0} + \\beta_{3}</script></html>"
      ],
      "text/latex": [
       "$$\\newcommand{\\Bold}[1]{\\mathbf{#1}}y_{3} = \\beta_{0} + \\beta_{3}$$"
      ],
      "text/plain": [
       "y3 == beta0 + beta3"
      ]
     },
     "metadata": {},
     "output_type": "display_data"
    },
    {
     "data": {
      "text/html": [
       "<html><script type=\"math/tex; mode=display\">\\newcommand{\\Bold}[1]{\\mathbf{#1}}y_{4} = \\beta_{0} - \\beta_{1} - \\beta_{2} - \\beta_{3}</script></html>"
      ],
      "text/latex": [
       "$$\\newcommand{\\Bold}[1]{\\mathbf{#1}}y_{4} = \\beta_{0} - \\beta_{1} - \\beta_{2} - \\beta_{3}$$"
      ],
      "text/plain": [
       "y4 == beta0 - beta1 - beta2 - beta3"
      ]
     },
     "metadata": {},
     "output_type": "display_data"
    }
   ],
   "source": [
    "eq1 = y1 == beta0 + c1[0] * beta1 + c1[1] * beta2 + c1[2] * beta3\n",
    "eq2 = y2 == beta0 + c2[0] * beta1 + c2[1] * beta2 + c2[2] * beta3\n",
    "eq3 = y3 == beta0 + c3[0] * beta1 + c3[1] * beta2 + c3[2] * beta3\n",
    "eq4 = y4 == beta0 + c4[0] * beta1 + c4[1] * beta2 + c4[2] * beta3\n",
    "\n",
    "show(eq1)\n",
    "show(eq2)\n",
    "show(eq3)\n",
    "show(eq4)"
   ]
  },
  {
   "cell_type": "code",
   "execution_count": 16,
   "metadata": {},
   "outputs": [],
   "source": [
    "result = solve([eq1,eq2,eq3, eq4], beta0, beta1, beta2, beta3)"
   ]
  },
  {
   "cell_type": "code",
   "execution_count": 17,
   "metadata": {
    "scrolled": true
   },
   "outputs": [
    {
     "data": {
      "text/html": [
       "<html><script type=\"math/tex; mode=display\">\\newcommand{\\Bold}[1]{\\mathbf{#1}}\\beta_{0} = \\frac{1}{4} \\, y_{1} + \\frac{1}{4} \\, y_{2} + \\frac{1}{4} \\, y_{3} + \\frac{1}{4} \\, y_{4}</script></html>"
      ],
      "text/latex": [
       "$$\\newcommand{\\Bold}[1]{\\mathbf{#1}}\\beta_{0} = \\frac{1}{4} \\, y_{1} + \\frac{1}{4} \\, y_{2} + \\frac{1}{4} \\, y_{3} + \\frac{1}{4} \\, y_{4}$$"
      ],
      "text/plain": [
       "beta0 == 1/4*y1 + 1/4*y2 + 1/4*y3 + 1/4*y4"
      ]
     },
     "metadata": {},
     "output_type": "display_data"
    },
    {
     "data": {
      "text/html": [
       "<html><script type=\"math/tex; mode=display\">\\newcommand{\\Bold}[1]{\\mathbf{#1}}\\beta_{1} = \\frac{3}{4} \\, y_{1} - \\frac{1}{4} \\, y_{2} - \\frac{1}{4} \\, y_{3} - \\frac{1}{4} \\, y_{4}</script></html>"
      ],
      "text/latex": [
       "$$\\newcommand{\\Bold}[1]{\\mathbf{#1}}\\beta_{1} = \\frac{3}{4} \\, y_{1} - \\frac{1}{4} \\, y_{2} - \\frac{1}{4} \\, y_{3} - \\frac{1}{4} \\, y_{4}$$"
      ],
      "text/plain": [
       "beta1 == 3/4*y1 - 1/4*y2 - 1/4*y3 - 1/4*y4"
      ]
     },
     "metadata": {},
     "output_type": "display_data"
    },
    {
     "data": {
      "text/html": [
       "<html><script type=\"math/tex; mode=display\">\\newcommand{\\Bold}[1]{\\mathbf{#1}}\\beta_{2} = -\\frac{1}{4} \\, y_{1} + \\frac{3}{4} \\, y_{2} - \\frac{1}{4} \\, y_{3} - \\frac{1}{4} \\, y_{4}</script></html>"
      ],
      "text/latex": [
       "$$\\newcommand{\\Bold}[1]{\\mathbf{#1}}\\beta_{2} = -\\frac{1}{4} \\, y_{1} + \\frac{3}{4} \\, y_{2} - \\frac{1}{4} \\, y_{3} - \\frac{1}{4} \\, y_{4}$$"
      ],
      "text/plain": [
       "beta2 == -1/4*y1 + 3/4*y2 - 1/4*y3 - 1/4*y4"
      ]
     },
     "metadata": {},
     "output_type": "display_data"
    },
    {
     "data": {
      "text/html": [
       "<html><script type=\"math/tex; mode=display\">\\newcommand{\\Bold}[1]{\\mathbf{#1}}\\beta_{3} = -\\frac{1}{4} \\, y_{1} - \\frac{1}{4} \\, y_{2} + \\frac{3}{4} \\, y_{3} - \\frac{1}{4} \\, y_{4}</script></html>"
      ],
      "text/latex": [
       "$$\\newcommand{\\Bold}[1]{\\mathbf{#1}}\\beta_{3} = -\\frac{1}{4} \\, y_{1} - \\frac{1}{4} \\, y_{2} + \\frac{3}{4} \\, y_{3} - \\frac{1}{4} \\, y_{4}$$"
      ],
      "text/plain": [
       "beta3 == -1/4*y1 - 1/4*y2 + 3/4*y3 - 1/4*y4"
      ]
     },
     "metadata": {},
     "output_type": "display_data"
    }
   ],
   "source": [
    "show(result[0][0])\n",
    "show(result[0][1])\n",
    "show(result[0][2])\n",
    "show(result[0][3])"
   ]
  },
  {
   "cell_type": "code",
   "execution_count": null,
   "metadata": {},
   "outputs": [],
   "source": []
  }
 ],
 "metadata": {
  "kernelspec": {
   "display_name": "SageMath 9.5",
   "language": "sage",
   "name": "sagemath"
  },
  "language_info": {
   "codemirror_mode": {
    "name": "ipython",
    "version": 3
   },
   "file_extension": ".py",
   "mimetype": "text/x-python",
   "name": "python",
   "nbconvert_exporter": "python",
   "pygments_lexer": "ipython3",
   "version": "3.10.12"
  }
 },
 "nbformat": 4,
 "nbformat_minor": 4
}
