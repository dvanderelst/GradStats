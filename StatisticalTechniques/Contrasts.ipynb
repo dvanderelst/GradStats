{
 "cells": [
  {
   "cell_type": "markdown",
   "metadata": {},
   "source": [
    "# Solving contrasts for parameters"
   ]
  },
  {
   "cell_type": "code",
   "execution_count": 26,
   "metadata": {},
   "outputs": [],
   "source": [
    "reset()\n",
    "import numpy"
   ]
  },
  {
   "cell_type": "code",
   "execution_count": 27,
   "metadata": {},
   "outputs": [
    {
     "data": {
      "text/plain": [
       "(beta0, beta1, beta2, beta3)"
      ]
     },
     "execution_count": 27,
     "metadata": {},
     "output_type": "execute_result"
    }
   ],
   "source": [
    "var('y1 y2 y3 y4')\n",
    "var('beta0 beta1 beta2 beta3')"
   ]
  },
  {
   "cell_type": "code",
   "execution_count": 28,
   "metadata": {},
   "outputs": [],
   "source": [
    "selection = 'helmert'\n",
    "factor = 1 # to test what happens if the contrast values are scaled"
   ]
  },
  {
   "cell_type": "code",
   "execution_count": 29,
   "metadata": {},
   "outputs": [],
   "source": [
    "if selection == 'simple':\n",
    "    c1 = numpy.array([-1/4, -1/4, -1/4]) * factor\n",
    "    c2 = numpy.array([3/4, -1/4, -1/4]) * factor\n",
    "    c3 = numpy.array([-1/4, 3/4, -1/4]) * factor\n",
    "    c4 = numpy.array([-1/4, -1/4, 3/4]) * factor\n",
    "    \n",
    "\n",
    "if selection == 'helmert':\n",
    "    c1 = numpy.array([3/4, 0, 0]) * factor\n",
    "    c2 = numpy.array([-1/4, 2/3, 0]) * factor\n",
    "    c3 = numpy.array([-1/4, -1/3, 1/2]) * factor\n",
    "    c4 = numpy.array([-1/4, -1/3, -1/2]) * factor\n",
    "    "
   ]
  },
  {
   "cell_type": "code",
   "execution_count": 30,
   "metadata": {},
   "outputs": [
    {
     "data": {
      "text/html": [
       "<html><script type=\"math/tex; mode=display\">\\newcommand{\\Bold}[1]{\\mathbf{#1}}y_{1} = \\beta_{0} + 0.75 \\, \\beta_{1}</script></html>"
      ],
      "text/plain": [
       "y1 == beta0 + 0.75*beta1"
      ]
     },
     "metadata": {},
     "output_type": "display_data"
    },
    {
     "data": {
      "text/html": [
       "<html><script type=\"math/tex; mode=display\">\\newcommand{\\Bold}[1]{\\mathbf{#1}}y_{2} = \\beta_{0} - 0.25 \\, \\beta_{1} + 0.6666666666666666 \\, \\beta_{2}</script></html>"
      ],
      "text/plain": [
       "y2 == beta0 - 0.25*beta1 + 0.6666666666666666*beta2"
      ]
     },
     "metadata": {},
     "output_type": "display_data"
    },
    {
     "data": {
      "text/html": [
       "<html><script type=\"math/tex; mode=display\">\\newcommand{\\Bold}[1]{\\mathbf{#1}}y_{3} = \\beta_{0} - 0.25 \\, \\beta_{1} - 0.3333333333333333 \\, \\beta_{2} + 0.5 \\, \\beta_{3}</script></html>"
      ],
      "text/plain": [
       "y3 == beta0 - 0.25*beta1 - 0.3333333333333333*beta2 + 0.5*beta3"
      ]
     },
     "metadata": {},
     "output_type": "display_data"
    },
    {
     "data": {
      "text/html": [
       "<html><script type=\"math/tex; mode=display\">\\newcommand{\\Bold}[1]{\\mathbf{#1}}y_{4} = \\beta_{0} - 0.25 \\, \\beta_{1} - 0.3333333333333333 \\, \\beta_{2} - 0.5 \\, \\beta_{3}</script></html>"
      ],
      "text/plain": [
       "y4 == beta0 - 0.25*beta1 - 0.3333333333333333*beta2 - 0.5*beta3"
      ]
     },
     "metadata": {},
     "output_type": "display_data"
    }
   ],
   "source": [
    "eq1 = y1 == beta0 + c1[0] * beta1 + c1[1] * beta2 + c1[2] * beta3\n",
    "eq2 = y2 == beta0 + c2[0] * beta1 + c2[1] * beta2 + c2[2] * beta3\n",
    "eq3 = y3 == beta0 + c3[0] * beta1 + c3[1] * beta2 + c3[2] * beta3\n",
    "eq4 = y4 == beta0 + c4[0] * beta1 + c4[1] * beta2 + c4[2] * beta3\n",
    "\n",
    "show(eq1)\n",
    "show(eq2)\n",
    "show(eq3)\n",
    "show(eq4)"
   ]
  },
  {
   "cell_type": "code",
   "execution_count": 31,
   "metadata": {},
   "outputs": [],
   "source": [
    "result = solve([eq1,eq2,eq3, eq4], beta0, beta1, beta2, beta3)"
   ]
  },
  {
   "cell_type": "code",
   "execution_count": 34,
   "metadata": {},
   "outputs": [
    {
     "data": {
      "text/html": [
       "<html><script type=\"math/tex; mode=display\">\\newcommand{\\Bold}[1]{\\mathbf{#1}}\\beta_{0} = \\frac{1}{4} \\, y_{1} + \\frac{1}{4} \\, y_{2} + \\frac{1}{4} \\, y_{3} + \\frac{1}{4} \\, y_{4}</script></html>"
      ],
      "text/plain": [
       "beta0 == 1/4*y1 + 1/4*y2 + 1/4*y3 + 1/4*y4"
      ]
     },
     "metadata": {},
     "output_type": "display_data"
    },
    {
     "data": {
      "text/html": [
       "<html><script type=\"math/tex; mode=display\">\\newcommand{\\Bold}[1]{\\mathbf{#1}}\\beta_{1} = y_{1} - \\frac{1}{3} \\, y_{2} - \\frac{1}{3} \\, y_{3} - \\frac{1}{3} \\, y_{4}</script></html>"
      ],
      "text/plain": [
       "beta1 == y1 - 1/3*y2 - 1/3*y3 - 1/3*y4"
      ]
     },
     "metadata": {},
     "output_type": "display_data"
    },
    {
     "data": {
      "text/html": [
       "<html><script type=\"math/tex; mode=display\">\\newcommand{\\Bold}[1]{\\mathbf{#1}}\\beta_{2} = y_{2} - \\frac{1}{2} \\, y_{3} - \\frac{1}{2} \\, y_{4}</script></html>"
      ],
      "text/plain": [
       "beta2 == y2 - 1/2*y3 - 1/2*y4"
      ]
     },
     "metadata": {},
     "output_type": "display_data"
    },
    {
     "data": {
      "text/html": [
       "<html><script type=\"math/tex; mode=display\">\\newcommand{\\Bold}[1]{\\mathbf{#1}}\\beta_{3} = y_{3} - y_{4}</script></html>"
      ],
      "text/plain": [
       "beta3 == y3 - y4"
      ]
     },
     "metadata": {},
     "output_type": "display_data"
    }
   ],
   "source": [
    "show(result[0][0])\n",
    "show(result[0][1])\n",
    "show(result[0][2])\n",
    "show(result[0][3])"
   ]
  }
 ],
 "metadata": {
  "kernelspec": {
   "display_name": "SageMath 9.0",
   "language": "sage",
   "name": "sagemath"
  },
  "language_info": {
   "codemirror_mode": {
    "name": "ipython",
    "version": 3
   },
   "file_extension": ".py",
   "mimetype": "text/x-python",
   "name": "python",
   "nbconvert_exporter": "python",
   "pygments_lexer": "ipython3",
   "version": "3.8.10"
  }
 },
 "nbformat": 4,
 "nbformat_minor": 4
}
